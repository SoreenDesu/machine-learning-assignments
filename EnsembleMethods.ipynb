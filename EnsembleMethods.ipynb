{
  "cells": [
    {
      "cell_type": "markdown",
      "metadata": {
        "id": "O8gU7AYPXMmA"
      },
      "source": [
        "## About iPython Notebooks ##\n",
        "\n",
        "iPython Notebooks are interactive coding environments embedded in a webpage. You will be using iPython notebooks in this class. Make sure you fill in any place that says `# BEGIN CODE HERE #END CODE HERE`. After writing your code, you can run the cell by either pressing \"SHIFT\"+\"ENTER\" or by clicking on \"Run\" (denoted by a play symbol). Before you turn this problem in, make sure everything runs as expected. First, **restart the kernel** (in the menubar, select Kernel$\\rightarrow$Restart) and then **run all cells** (in the menubar, select Cell$\\rightarrow$Run All). \n",
        "\n",
        " **What you need to remember:**\n",
        "\n",
        "- Run your cells using SHIFT+ENTER (or \"Run cell\")\n",
        "- Write code in the designated areas using Python 3 only\n",
        "- Do not modify the code outside of the designated areas\n",
        "- In some cases you will also need to explain the results. There will also be designated areas for that. \n",
        "\n",
        "Fill in your **NAME** and **AEM** below:"
      ]
    },
    {
      "cell_type": "code",
      "execution_count": 1,
      "metadata": {
        "id": "lO-jJrtNXMmH"
      },
      "outputs": [],
      "source": [
        "NAME = \"Dimitris Ntiniaropoulos\"\n",
        "AEM = \"----\""
      ]
    },
    {
      "cell_type": "markdown",
      "metadata": {
        "id": "sh0EE7BJXMmJ"
      },
      "source": [
        "---"
      ]
    },
    {
      "cell_type": "markdown",
      "metadata": {
        "id": "v_VpnGyWXMmK"
      },
      "source": [
        "# Assignment 3 - Ensemble Methods #"
      ]
    },
    {
      "cell_type": "markdown",
      "metadata": {
        "id": "2dQ9XoGQXMmK"
      },
      "source": [
        "Welcome to your third assignment. This exercise will test your understanding on Ensemble Methods."
      ]
    },
    {
      "cell_type": "code",
      "execution_count": 2,
      "metadata": {
        "id": "JvHYIhS-XMmL"
      },
      "outputs": [],
      "source": [
        "# Always run this cell\n",
        "import numpy as np\n",
        "import pandas as pd\n",
        "\n",
        "# USE THE FOLLOWING RANDOM STATE FOR YOUR CODE\n",
        "RANDOM_STATE = 42"
      ]
    },
    {
      "cell_type": "markdown",
      "metadata": {
        "id": "joKwpih2XMmM"
      },
      "source": [
        "## Download the Dataset ##\n",
        "Download the dataset using the following cell or from this [link](https://github.com/sakrifor/public/tree/master/machine_learning_course/EnsembleDataset) and put the files in the same folder as the .ipynb file. \n",
        "In this assignment you are going to work with a dataset originated from the [ImageCLEFmed: The Medical Task 2016](https://www.imageclef.org/2016/medical) and the **Compound figure detection** subtask. The goal of this subtask is to identify whether a figure is a compound figure (one image consists of more than one figure) or not. The train dataset consits of 4197 examples/figures and each figure has 4096 features which were extracted using a deep neural network. The *CLASS* column represents the class of each example where 1 is a compoung figure and 0 is not. \n"
      ]
    },
    {
      "cell_type": "code",
      "execution_count": 3,
      "metadata": {
        "colab": {
          "base_uri": "https://localhost:8080/"
        },
        "id": "NJdwPr0bXMmM",
        "outputId": "70f064fa-7ee5-4985-f59d-9c94c1d1c3f2"
      },
      "outputs": [
        {
          "data": {
            "text/plain": [
              "('test_set_noclass.csv', <http.client.HTTPMessage at 0x2001baeb5e0>)"
            ]
          },
          "execution_count": 3,
          "metadata": {},
          "output_type": "execute_result"
        }
      ],
      "source": [
        "import urllib.request\n",
        "url_train = 'https://github.com/sakrifor/public/raw/master/machine_learning_course/EnsembleDataset/train_set.csv'\n",
        "filename_train = 'train_set.csv'\n",
        "urllib.request.urlretrieve(url_train, filename_train)\n",
        "url_test = 'https://github.com/sakrifor/public/raw/master/machine_learning_course/EnsembleDataset/test_set_noclass.csv'\n",
        "filename_test = 'test_set_noclass.csv'\n",
        "urllib.request.urlretrieve(url_test, filename_test)"
      ]
    },
    {
      "cell_type": "code",
      "execution_count": 4,
      "metadata": {
        "id": "t0OVtYr7XMmN"
      },
      "outputs": [],
      "source": [
        "# Run this cell to load the data\n",
        "train_set = pd.read_csv(\"train_set.csv\").sample(frac=1).reset_index(drop=True)\n",
        "train_set.head()\n",
        "X = train_set.drop(columns=['CLASS'])\n",
        "y = train_set['CLASS'].values"
      ]
    },
    {
      "cell_type": "markdown",
      "metadata": {
        "id": "ZxOGHSmqXMmO"
      },
      "source": [
        "## 1.0 Testing different ensemble methods ##\n",
        "In this part of the assignment you are asked to create and test different ensemble methods using the train_set.csv dataset. You should use **10-fold cross validation** for your tests and report the average f-measure weighted and balanced accuracy of your models. You can use [cross_validate](https://scikit-learn.org/stable/modules/generated/sklearn.model_selection.cross_validate.html#sklearn.model_selection.cross_validate) and select both metrics to be measured during the evaluation. Otherwise, you can use [KFold](https://scikit-learn.org/stable/modules/generated/sklearn.model_selection.KFold.html#sklearn.model_selection.KFold).\n",
        "\n",
        "### !!! Use n_jobs=-1 where is posibble to use all the cores of a machine for running your tests ###"
      ]
    },
    {
      "cell_type": "markdown",
      "metadata": {},
      "source": [
        "In all cells below, the best option out of all tested is the one that is uncommented."
      ]
    },
    {
      "cell_type": "markdown",
      "metadata": {
        "id": "Ww_u4OlrXMmO"
      },
      "source": [
        "### 1.1 Voting ###\n",
        "Create a voting classifier which uses three **simple** estimators/classifiers. Test both soft and hard voting and choose the best one. Consider as simple estimators the following:\n",
        "\n",
        "\n",
        "*   Decision Trees\n",
        "*   Linear Models\n",
        "*   Probabilistic Models (Naive Bayes)\n",
        "*   KNN Models  "
      ]
    },
    {
      "cell_type": "code",
      "execution_count": 5,
      "metadata": {
        "id": "RwvPacgkXMmP"
      },
      "outputs": [],
      "source": [
        "# BEGIN CODE HERE\n",
        "from sklearn.gaussian_process import GaussianProcessClassifier\n",
        "from sklearn.gaussian_process.kernels import RBF\n",
        "from sklearn.naive_bayes import GaussianNB\n",
        "from sklearn.neural_network import MLPClassifier\n",
        "from sklearn.neighbors import KNeighborsClassifier\n",
        "from sklearn.tree import DecisionTreeClassifier\n",
        "from sklearn.metrics import mean_squared_error, accuracy_score, f1_score\n",
        "from sklearn.model_selection import StratifiedKFold , cross_validate,  GridSearchCV\n",
        "from sklearn.svm import SVC\n",
        "from sklearn.ensemble import VotingClassifier, StackingClassifier, AdaBoostClassifier, RandomForestClassifier, BaggingClassifier, GradientBoostingClassifier\n",
        "\n",
        "train_set = pd.read_csv(\"train_set.csv\").sample(frac=1, random_state=RANDOM_STATE).reset_index(drop=True)\n",
        "X = train_set.drop(columns=['CLASS'])\n",
        "y = train_set['CLASS'].values\n",
        "\n",
        "# Set one\n",
        "cls1 = SVC(probability = False ,random_state=RANDOM_STATE)\n",
        "cls2 = SVC(gamma='auto', probability = False ,random_state=RANDOM_STATE) \n",
        "cls3 = SVC(kernel= 'linear', probability = False ,random_state=RANDOM_STATE)\n",
        "classifiers = [('svm1', cls1),('svm2', cls2),('svm3', cls3)]\n",
        "\n",
        "# Set two\n",
        "# cls1 = DecisionTreeClassifier(random_state=RANDOM_STATE)\n",
        "# cls2 = DecisionTreeClassifier(max_depth=16, random_state=RANDOM_STATE)\n",
        "# cls3 = DecisionTreeClassifier(max_depth=8, random_state=RANDOM_STATE)\n",
        "# classifiers = [('dt1', cls1),('dt2', cls2),('dt3', cls3)]\n",
        "\n",
        "# Set three\n",
        "# cls1 = KNeighborsClassifier(n_neighbors=5)\n",
        "# cls2 = KNeighborsClassifier(n_neighbors=7)\n",
        "# cls3 = KNeighborsClassifier(n_neighbors=9)\n",
        "# classifiers = [('knn1', cls1),('knn2', cls2),('knn3', cls3)]\n",
        "\n",
        "# Set four\n",
        "# cls1 = SVC(probability=False, random_state=RANDOM_STATE)\n",
        "# cls2 = DecisionTreeClassifier(random_state=RANDOM_STATE)\n",
        "# cls3 = KNeighborsClassifier(n_neighbors=5)\n",
        "# classifiers = [('svm', cls1),('dt', cls2),('knn', cls3)]\n",
        "\n",
        "soft_vcls = VotingClassifier(estimators=classifiers, voting='soft')\n",
        "hard_vcls = VotingClassifier(estimators=classifiers, voting='hard')\n",
        "\n",
        "cv = StratifiedKFold(n_splits=10, shuffle=True, random_state=RANDOM_STATE)\n",
        "\n",
        "svlcs_scores = cross_validate(soft_vcls, X, y, scoring=('accuracy', 'f1'), cv=cv, n_jobs=-1)\n",
        "s_avg_fmeasure = np.mean(svlcs_scores['test_f1']) # The average f-measure\n",
        "s_avg_accuracy = np.mean(svlcs_scores['test_accuracy']) # The average accuracy\n",
        "\n",
        "hvlcs_scores = cross_validate(hard_vcls, X, y, scoring=('accuracy', 'f1'), cv=cv, n_jobs=-1)\n",
        "h_avg_fmeasure = np.mean(hvlcs_scores['test_f1']) # The average f-measure\n",
        "h_avg_accuracy = np.mean(hvlcs_scores['test_accuracy']) # The average accuracy\n",
        "#END CODE HERE"
      ]
    },
    {
      "cell_type": "code",
      "execution_count": 6,
      "metadata": {
        "id": "sQQvClrmXMmQ"
      },
      "outputs": [
        {
          "name": "stdout",
          "output_type": "stream",
          "text": [
            "Classifier:\n",
            "VotingClassifier(estimators=[('svm1', SVC(random_state=42)),\n",
            "                             ('svm2', SVC(gamma='auto', random_state=42)),\n",
            "                             ('svm3', SVC(kernel='linear', random_state=42))],\n",
            "                 voting='soft')\n",
            "F1 Weighted-Score: nan & Balanced Accuracy: nan\n"
          ]
        }
      ],
      "source": [
        "print(\"Classifier:\")\n",
        "print(soft_vcls)\n",
        "print(\"F1 Weighted-Score: {} & Balanced Accuracy: {}\".format(round(s_avg_fmeasure,4), round(s_avg_accuracy,4)))"
      ]
    },
    {
      "cell_type": "markdown",
      "metadata": {
        "id": "k-iJK9pFaDka"
      },
      "source": [
        "You should achive above 82% (Soft Voting Classifier)"
      ]
    },
    {
      "cell_type": "code",
      "execution_count": 7,
      "metadata": {
        "id": "XRNkVAvEYVbn"
      },
      "outputs": [
        {
          "name": "stdout",
          "output_type": "stream",
          "text": [
            "Classifier:\n",
            "VotingClassifier(estimators=[('svm1', SVC(random_state=42)),\n",
            "                             ('svm2', SVC(gamma='auto', random_state=42)),\n",
            "                             ('svm3', SVC(kernel='linear', random_state=42))])\n",
            "F1 Weighted-Score: 0.8807 & Balanced Accuracy: 0.8572\n"
          ]
        }
      ],
      "source": [
        "print(\"Classifier:\")\n",
        "print(hard_vcls)\n",
        "print(\"F1 Weighted-Score: {} & Balanced Accuracy: {}\".format(round(h_avg_fmeasure,4), round(h_avg_accuracy,4)))"
      ]
    },
    {
      "cell_type": "markdown",
      "metadata": {
        "id": "V6M0CZO6aEHi"
      },
      "source": [
        "You should achieve above 80% in both! (Hard Voting Classifier)"
      ]
    },
    {
      "cell_type": "markdown",
      "metadata": {},
      "source": [
        "Random combinations of estimators were tested, wit set one being the best option.\n",
        "\n",
        "| Set | Soft Voting F1 | Soft Voting Accuracy | Hard Voting F1 | Hard Voting Accuracy |\n",
        "|-----|----------------|----------------------|----------------|----------------------|\n",
        "| 1   | -              | -                    | 0.8807         | 0.8572               |\n",
        "| 2   | 0.7619         | 0.7152               | 0.7620         | 0.7152               |\n",
        "| 3   | 0.8384         | 0.8091               | 0.8384         | 0.8091               |\n",
        "| 4   | -              | -                    | 0.8602         | 0.8327               |"
      ]
    },
    {
      "cell_type": "markdown",
      "metadata": {
        "id": "xVPuIxwFXMmR"
      },
      "source": [
        "### 1.2 Stacking ###\n",
        "Create a stacking classifier which uses two more complex estimators. Try different simple classifiers (like the ones mentioned before) for the combination of the initial estimators. Report your results in the following cell.\n",
        "\n",
        "Consider as complex estimators the following:\n",
        "\n",
        "*   Random Forest\n",
        "*   SVM\n",
        "*   Gradient Boosting\n",
        "*   MLP\n",
        "\n",
        "\n"
      ]
    },
    {
      "cell_type": "code",
      "execution_count": 8,
      "metadata": {
        "id": "HX6T1qrFXMmS"
      },
      "outputs": [
        {
          "name": "stderr",
          "output_type": "stream",
          "text": [
            "[Parallel(n_jobs=-1)]: Using backend LokyBackend with 12 concurrent workers.\n",
            "[Parallel(n_jobs=-1)]: Done   5 out of  10 | elapsed: 29.3min remaining: 29.3min\n",
            "[Parallel(n_jobs=-1)]: Done  10 out of  10 | elapsed: 29.9min finished\n"
          ]
        }
      ],
      "source": [
        "# BEGIN CODE HERE\n",
        "\n",
        "# Set one\n",
        "# cls1 = SVC(probability = False ,random_state=RANDOM_STATE)\n",
        "# cls2 = SVC(gamma='auto', probability = False ,random_state=RANDOM_STATE)\n",
        "# cls3 = \"\" # Classifier #3 (Optional)\n",
        "\n",
        "# classifiers = [('svm1',cls1),('svm2',cls2)]\n",
        "\n",
        "# Set two\n",
        "# cls1 = DecisionTreeClassifier(random_state=RANDOM_STATE)\n",
        "# cls2 = DecisionTreeClassifier(max_depth=16, random_state=RANDOM_STATE)\n",
        "# cls3 = \"\" # Classifier #3 (Optional)\n",
        "\n",
        "# classifiers = [('dt1',cls1),('dt2',cls2)]\n",
        "\n",
        "# Set three\n",
        "# cls1 = KNeighborsClassifier(n_neighbors=5)\n",
        "# cls2 = KNeighborsClassifier(n_neighbors=7)\n",
        "# cls3 = \"\" # Classifier #3 (Optional)\n",
        "\n",
        "# classifiers = [('knn1',cls1),('knn2',cls2)]\n",
        "\n",
        "# Set four\n",
        "cls1 = DecisionTreeClassifier(random_state=RANDOM_STATE)\n",
        "cls2 = SVC(probability=False, random_state=RANDOM_STATE)\n",
        "cls3 = \"\" # Classifier #3 (Optional)\n",
        "\n",
        "classifiers = [('dt',cls1),('svm',cls2)]\n",
        "\n",
        "# Set five\n",
        "# cls1 = KNeighborsClassifier(n_neighbors=5)\n",
        "# cls2 = SVC(probability=False, random_state=RANDOM_STATE)\n",
        "# cls3 = \"\" # Classifier #3 (Optional)\n",
        "\n",
        "# classifiers = [('knn',cls1),('svm',cls2)]\n",
        "\n",
        "scls = StackingClassifier(classifiers, cv=10, passthrough=False) # Stacking Classifier\n",
        "\n",
        "cv = StratifiedKFold(n_splits=10, shuffle=True, random_state=RANDOM_STATE)\n",
        "scores = cross_validate(scls, X, y, scoring=('accuracy', 'f1'), cv=cv, verbose=2, n_jobs=-1)\n",
        "\n",
        "avg_fmeasure = np.mean(scores['test_f1']) # The average f-measure\n",
        "avg_accuracy = np.mean(scores['test_accuracy']) # The average accuracy\n",
        "#END CODE HERE"
      ]
    },
    {
      "cell_type": "code",
      "execution_count": 9,
      "metadata": {
        "id": "-JLRzkQ1XMmT"
      },
      "outputs": [
        {
          "name": "stdout",
          "output_type": "stream",
          "text": [
            "Classifier:\n",
            "StackingClassifier(cv=10,\n",
            "                   estimators=[('dt', DecisionTreeClassifier(random_state=42)),\n",
            "                               ('svm', SVC(random_state=42))])\n",
            "F1 Weighted Score: 0.8778 & Balanced Accuracy: 0.8556\n"
          ]
        }
      ],
      "source": [
        "print(\"Classifier:\")\n",
        "print(scls)\n",
        "print(\"F1 Weighted Score: {} & Balanced Accuracy: {}\".format(round(avg_fmeasure,4), round(avg_accuracy,4)))"
      ]
    },
    {
      "cell_type": "markdown",
      "metadata": {
        "id": "zcgOx-HPvBI-"
      },
      "source": [
        "You should achieve above 85% in both"
      ]
    },
    {
      "cell_type": "markdown",
      "metadata": {},
      "source": [
        "In this case, set four gave us the best results.\n",
        "\n",
        "| Set | F1 Score | Accuracy |\n",
        "|-----|----------|----------|\n",
        "| 1   | 0.8768   | 0.8544   |\n",
        "| 2   | 0.7696   | 0.7159   |\n",
        "| 3   | 0.8405   | 0.8072   |\n",
        "| 4   | 0.8778   | 0.8556   |\n",
        "| 5   | 0.8767   | 0.8541   |"
      ]
    },
    {
      "cell_type": "markdown",
      "metadata": {
        "id": "O-nqW51xXMmU"
      },
      "source": [
        "## 2.0 Randomization ##"
      ]
    },
    {
      "cell_type": "markdown",
      "metadata": {
        "id": "KPG8MdFLXMmV"
      },
      "source": [
        "**2.1** You are asked to create three ensembles of decision trees where each one uses a different method for producing homogeneous ensembles. Compare them with a simple decision tree classifier and report your results in the dictionaries (dict) below using as key the given name of your classifier and as value the f1_weighted/balanced_accuracy score. The dictionaries should contain four different elements.  "
      ]
    },
    {
      "cell_type": "code",
      "execution_count": 10,
      "metadata": {
        "id": "PmkaP-DjXMmV"
      },
      "outputs": [
        {
          "name": "stderr",
          "output_type": "stream",
          "text": [
            "[Parallel(n_jobs=-1)]: Using backend LokyBackend with 12 concurrent workers.\n",
            "[Parallel(n_jobs=-1)]: Done   5 out of  10 | elapsed:  5.3min remaining:  5.3min\n",
            "[Parallel(n_jobs=-1)]: Done  10 out of  10 | elapsed:  5.4min finished\n",
            "[Parallel(n_jobs=-1)]: Using backend LokyBackend with 12 concurrent workers.\n",
            "[Parallel(n_jobs=-1)]: Done   5 out of  10 | elapsed:   27.5s remaining:   27.5s\n",
            "[Parallel(n_jobs=-1)]: Done  10 out of  10 | elapsed:   27.6s finished\n",
            "[Parallel(n_jobs=-1)]: Using backend LokyBackend with 12 concurrent workers.\n",
            "[Parallel(n_jobs=-1)]: Done   5 out of  10 | elapsed:  3.3min remaining:  3.3min\n",
            "[Parallel(n_jobs=-1)]: Done  10 out of  10 | elapsed:  3.3min finished\n",
            "[Parallel(n_jobs=-1)]: Using backend LokyBackend with 12 concurrent workers.\n",
            "[Parallel(n_jobs=-1)]: Done   5 out of  10 | elapsed:    3.9s remaining:    3.9s\n",
            "[Parallel(n_jobs=-1)]: Done  10 out of  10 | elapsed:    4.0s finished\n"
          ]
        }
      ],
      "source": [
        "# BEGIN CODE HERE\n",
        "ens1 = BaggingClassifier(DecisionTreeClassifier(max_depth=12), max_features=0.8, n_estimators=100, random_state=RANDOM_STATE)\n",
        "ens2 = RandomForestClassifier(criterion='gini', max_depth=10, max_features='auto', n_estimators=500, random_state=RANDOM_STATE)\n",
        "ens3 = GradientBoostingClassifier(learning_rate=0.1, max_depth=5, n_estimators=100, random_state=RANDOM_STATE)\n",
        "tree = DecisionTreeClassifier(criterion='gini',max_depth=7, min_samples_leaf=2,splitter='best', random_state=RANDOM_STATE)\n",
        "\n",
        "f_measures = dict()\n",
        "accuracies = dict()\n",
        "# Example f_measures = {'Simple Decision': 0.8551, 'Ensemble with random ...': 0.92, ...}\n",
        "\n",
        "# A couple of functions to help us\n",
        "def evaluation(model, X, y):\n",
        "    cv = StratifiedKFold(n_splits=10, shuffle=True, random_state=RANDOM_STATE)\n",
        "    scores = cross_validate(model, X, y, scoring=('accuracy', 'f1'), cv=cv, verbose=2, n_jobs=-1)\n",
        "    return scores\n",
        "\n",
        "def scoring(model, X, y):\n",
        "    scores = evaluation(model, X, y)\n",
        "    f1_score = np.mean(scores['test_f1'])  \n",
        "    acc_score = np.mean(scores['test_accuracy'])\n",
        "    return f1_score, acc_score\n",
        "\n",
        "f1_ens1, acc_ens1 = scoring(ens1, X, y)\n",
        "f1_ens2, acc_ens2 = scoring(ens2, X, y)\n",
        "f1_ens3, acc_ens3 = scoring(ens3, X, y)\n",
        "f1_tree, acc_tree = scoring(tree, X, y)\n",
        "\n",
        "f_measures['Bagging'] = f1_ens1\n",
        "f_measures['RandomForest'] = f1_ens2\n",
        "f_measures['GradientBoost'] = f1_ens3\n",
        "f_measures['DecisionTree'] = f1_tree\n",
        "\n",
        "accuracies['Bagging'] = acc_ens1\n",
        "accuracies['RandomForest'] = acc_ens2\n",
        "accuracies['GradientBoost'] = acc_ens3\n",
        "accuracies['DecisionTree'] = acc_tree\n",
        "\n",
        "#END CODE HERE"
      ]
    },
    {
      "cell_type": "code",
      "execution_count": 11,
      "metadata": {
        "id": "IUqhDUuCXMmW"
      },
      "outputs": [
        {
          "name": "stdout",
          "output_type": "stream",
          "text": [
            "BaggingClassifier(base_estimator=DecisionTreeClassifier(max_depth=12),\n",
            "                  max_features=0.8, n_estimators=100, random_state=42)\n",
            "RandomForestClassifier(max_depth=10, n_estimators=500, random_state=42)\n",
            "GradientBoostingClassifier(max_depth=5, random_state=42)\n",
            "DecisionTreeClassifier(max_depth=7, min_samples_leaf=2, random_state=42)\n",
            "Classifier:Bagging -  F1 Weighted:0.8463\n",
            "Classifier:RandomForest -  F1 Weighted:0.8362\n",
            "Classifier:GradientBoost -  F1 Weighted:0.86\n",
            "Classifier:DecisionTree -  F1 Weighted:0.77\n",
            "Classifier:Bagging -  BalancedAccuracy:0.8086\n",
            "Classifier:RandomForest -  BalancedAccuracy:0.7886\n",
            "Classifier:GradientBoost -  BalancedAccuracy:0.8296\n",
            "Classifier:DecisionTree -  BalancedAccuracy:0.7204\n"
          ]
        }
      ],
      "source": [
        "print(ens1)\n",
        "print(ens2)\n",
        "print(ens3)\n",
        "print(tree)\n",
        "for name,score in f_measures.items():\n",
        "    print(\"Classifier:{} -  F1 Weighted:{}\".format(name,round(score,4)))\n",
        "for name,score in accuracies.items():\n",
        "    print(\"Classifier:{} -  BalancedAccuracy:{}\".format(name,round(score,4)))"
      ]
    },
    {
      "cell_type": "markdown",
      "metadata": {
        "id": "UqdXTE_2XMmX"
      },
      "source": [
        "**2.2** Describe your classifiers and your results."
      ]
    },
    {
      "cell_type": "markdown",
      "metadata": {
        "id": "rU9POFftXMmX"
      },
      "source": [
        "Gradient Boost gave the best results.\n",
        "\n",
        "| Classifier     | F1 Score | Accuracy |\n",
        "|----------------|----------|----------|\n",
        "| Bagging        | 0.8463   | 0.8086   |\n",
        "| Random Forest  | 0.8362   | 0.7886   |\n",
        "| Gradient Boost | 0.8600   | 0.8296   |\n",
        "| Decision Tree  | 0.7700   | 0.7204   |"
      ]
    },
    {
      "cell_type": "markdown",
      "metadata": {
        "id": "lkJeuV1FXMmX"
      },
      "source": [
        "**2.3** Increasing the number of estimators in a bagging classifier can drastically increase the training time of a classifier. Is there any solution to this problem? Can the same solution be applied to boosting classifiers?"
      ]
    },
    {
      "cell_type": "markdown",
      "metadata": {
        "id": "ApNEPcWEXMmY"
      },
      "source": [
        "In a bagging classifier, we can have the estimators run in parallel so that's how the training time can be decreased. Unfortunately, in a boosting classifier the estimators can't be ran in parallel, because each has to take into account the previous one's mistakes."
      ]
    },
    {
      "cell_type": "markdown",
      "metadata": {
        "id": "XgvsCbUGXMmY"
      },
      "source": [
        "## 3.0 Creating the best classifier ##"
      ]
    },
    {
      "cell_type": "markdown",
      "metadata": {
        "id": "Q6daX2mRXMmZ"
      },
      "source": [
        "**3.1** In this part of the assignment you are asked to train the best possible ensemble! Describe the process you followed to achieve this result. How did you choose your classifier and your parameters and why. Report the f-measure (weighted) & balanced accuracy (10-fold cross validation) of your final classifier and results of classifiers you tried in the cell following the code. Can you achieve a balanced accuracy over 83-84%?"
      ]
    },
    {
      "cell_type": "code",
      "execution_count": 12,
      "metadata": {
        "id": "00xAQ0HfXMmZ"
      },
      "outputs": [
        {
          "name": "stderr",
          "output_type": "stream",
          "text": [
            "[Parallel(n_jobs=-1)]: Using backend LokyBackend with 12 concurrent workers.\n",
            "[Parallel(n_jobs=-1)]: Done   5 out of  10 | elapsed: 59.8min remaining: 59.8min\n",
            "[Parallel(n_jobs=-1)]: Done  10 out of  10 | elapsed: 59.9min finished\n"
          ]
        }
      ],
      "source": [
        "# BEGIN CODE HERE\n",
        "\n",
        "# Set one\n",
        "# ens1 = SVC(C=10, gamma=0.0001, probability = False ,random_state=RANDOM_STATE)\n",
        "# ens2 = SVC(C=1, gamma=0.01, probability = False ,random_state=RANDOM_STATE)\n",
        "# ens3 = KNeighborsClassifier(n_neighbors=8,weights='distance' )\n",
        "# ens4 = KNeighborsClassifier(n_neighbors=15,weights='distance' )\n",
        "# ens5 = DecisionTreeClassifier(criterion='entropy',max_depth=15,min_samples_leaf=50)\n",
        "# ens6 = DecisionTreeClassifier(criterion='gini',max_depth=8,min_samples_leaf=5)\n",
        "\n",
        "# classifiers = [('svm1',ens1),('svm2',ens2),('knn1',ens3),('knn2',ens4),('dt1',ens5),('dt2',ens6)]\n",
        "\n",
        "# Set two\n",
        "ens1 = RandomForestClassifier(criterion='gini', max_depth=8, max_features='auto', n_estimators=500, random_state=RANDOM_STATE)\n",
        "ens2 = KNeighborsClassifier(n_neighbors=8, weights='distance')\n",
        "ens3 = KNeighborsClassifier(n_neighbors=15)\n",
        "ens4 = SVC(C= 0.1, gamma=1, kernel='poly', probability = False ,random_state=RANDOM_STATE)\n",
        "ens5 = SVC(C=10, gamma=0.0001, probability = False ,random_state=RANDOM_STATE)\n",
        "\n",
        "classifiers = [('rf',ens1),('knn1',ens2),('knn2',ens3),('svm1',ens4),('svm2',ens5)]\n",
        "\n",
        "# Set three\n",
        "# ens1 = KNeighborsClassifier(n_neighbors=8, weights='distance')\n",
        "# ens2 = KNeighborsClassifier(n_neighbors=15)\n",
        "# ens3 = SVC(C= 0.1, gamma=1, kernel='poly', probability = False ,random_state=RANDOM_STATE)\n",
        "# ens4 = SVC(C=10, gamma=0.0001, probability = False ,random_state=RANDOM_STATE)\n",
        "# ens5 = RandomForestClassifier(criterion='gini', max_depth=8, max_features='auto', n_estimators=500, random_state=RANDOM_STATE)\n",
        "# ens6 = GradientBoostingClassifier(learning_rate=0.1, max_depth=5, n_estimators=100, random_state=RANDOM_STATE)\n",
        "\n",
        "# classifiers = [('knn1',ens1),('knn2',ens2),('svm1',ens3),('svm2',ens4),('rf',ens5),('gb',ens6)]\n",
        "\n",
        "best_cls = StackingClassifier(classifiers, cv=10, n_jobs=1)\n",
        "cv = StratifiedKFold(n_splits=10, shuffle=True, random_state=RANDOM_STATE)\n",
        "scores_stacking = cross_validate(best_cls, X, y, scoring=('accuracy', 'f1'), cv=cv, verbose=2, n_jobs=-1)\n",
        "\n",
        "best_fmeasure = np.mean(scores_stacking['test_f1'])     \n",
        "best_accuracy = np.mean(scores_stacking['test_accuracy'])\n",
        "#END CODE HERE"
      ]
    },
    {
      "cell_type": "code",
      "execution_count": 13,
      "metadata": {
        "colab": {
          "base_uri": "https://localhost:8080/"
        },
        "id": "FbLB09agXMma",
        "outputId": "be9abfc9-aa0d-4e22-9f07-46926fd1d987"
      },
      "outputs": [
        {
          "name": "stdout",
          "output_type": "stream",
          "text": [
            "Classifier:\n",
            "StackingClassifier(cv=10,\n",
            "                   estimators=[('rf',\n",
            "                                RandomForestClassifier(max_depth=8,\n",
            "                                                       n_estimators=500,\n",
            "                                                       random_state=42)),\n",
            "                               ('knn1',\n",
            "                                KNeighborsClassifier(n_neighbors=8,\n",
            "                                                     weights='distance')),\n",
            "                               ('knn2', KNeighborsClassifier(n_neighbors=15)),\n",
            "                               ('svm1',\n",
            "                                SVC(C=0.1, gamma=1, kernel='poly',\n",
            "                                    random_state=42)),\n",
            "                               ('svm2',\n",
            "                                SVC(C=10, gamma=0.0001, random_state=42))],\n",
            "                   n_jobs=1)\n",
            "F1 Weighted-Score:0.885870956173741 & Balanced Accuracy:0.8648698715763155\n"
          ]
        }
      ],
      "source": [
        "print(\"Classifier:\")\n",
        "print(best_cls)\n",
        "print(\"F1 Weighted-Score:{} & Balanced Accuracy:{}\".format(best_fmeasure, best_accuracy))"
      ]
    },
    {
      "cell_type": "markdown",
      "metadata": {
        "id": "vnos1uqzXMma"
      },
      "source": [
        "**3.2** Describe the process you followed to achieve this result. How did you choose your classifier and your parameters and why. Report the f-measure & accuracy (10-fold cross validation) of your final classifier and results of classifiers you tried in the cell following the code."
      ]
    },
    {
      "cell_type": "markdown",
      "metadata": {
        "id": "o5dAfbTfXMmb"
      },
      "source": [
        "As in the first sextion of the assignment, various random combinations were tested.\n",
        "\n",
        "| Set | F1 Score | Accuracy |\n",
        "|-----|----------|----------|\n",
        "| 1   | 0.88534  | 0.86415  |\n",
        "| 2   | 0.88587  | 0.86486  |\n",
        "| 3   | 0.88567  | 0.86463  |"
      ]
    },
    {
      "cell_type": "markdown",
      "metadata": {
        "id": "fQEFCmbcXMmb"
      },
      "source": [
        "**3.3** Create a classifier that is going to be used in production - in a live system. Use the *test_set_noclass.csv* to make predictions. Store the predictions in a list.  "
      ]
    },
    {
      "cell_type": "code",
      "execution_count": 14,
      "metadata": {
        "id": "XQPgm_ubXMmc"
      },
      "outputs": [
        {
          "name": "stdout",
          "output_type": "stream",
          "text": [
            "StackingClassifier(cv=10,\n",
            "                   estimators=[('rf',\n",
            "                                RandomForestClassifier(max_depth=8,\n",
            "                                                       n_estimators=500,\n",
            "                                                       random_state=42)),\n",
            "                               ('knn1',\n",
            "                                KNeighborsClassifier(n_neighbors=8,\n",
            "                                                     weights='distance')),\n",
            "                               ('knn2', KNeighborsClassifier(n_neighbors=15)),\n",
            "                               ('svm1',\n",
            "                                SVC(C=0.1, gamma=1, kernel='poly',\n",
            "                                    random_state=42)),\n",
            "                               ('svm2',\n",
            "                                SVC(C=10, gamma=0.0001, random_state=42))],\n",
            "                   n_jobs=1)\n",
            "[1 0 1 ... 1 1 1]\n"
          ]
        }
      ],
      "source": [
        "# BEGIN CODE HERE\n",
        "cls = best_cls\n",
        "#END CODE HERE\n",
        "test_set = pd.read_csv(\"test_set_noclass.csv\")\n",
        "cls.fit(X, y)\n",
        "predictions = cls.predict(test_set)\n",
        "predictions_list = list(predictions)\n",
        "print(cls)\n",
        "print(predictions)"
      ]
    },
    {
      "cell_type": "markdown",
      "metadata": {
        "id": "lnAp-d2DXMmf"
      },
      "source": [
        "LEAVE HERE ANY COMMENTS ABOUT YOUR CLASSIFIER"
      ]
    },
    {
      "cell_type": "markdown",
      "metadata": {
        "id": "Neagvu0TXMmg"
      },
      "source": [
        "#### This following cell will not be executed. The test_set.csv with the classes will be made available after the deadline and this cell is for testing purposes!!! Do not modify it! ###"
      ]
    },
    {
      "cell_type": "code",
      "execution_count": 15,
      "metadata": {
        "id": "k7K7iI7BXMmg"
      },
      "outputs": [],
      "source": [
        "if False:\n",
        "  from sklearn.metrics import f1_score, balanced_accuracy_score\n",
        "  final_test_set = pd.read_csv('test_set.csv')\n",
        "  ground_truth = final_test_set['CLASS']\n",
        "  print(\"Balanced Accuracy: {}\".format(balanced_accuracy_score(predictions, ground_truth)))\n",
        "  print(\"F1 Weighted-Score: {}\".format(f1_score(predictions, ground_truth, average='weighted')))"
      ]
    },
    {
      "cell_type": "markdown",
      "metadata": {
        "id": "YJH-9KdOzW7z"
      },
      "source": [
        "Both should aim above 85%!"
      ]
    }
  ],
  "metadata": {
    "accelerator": "GPU",
    "colab": {
      "collapsed_sections": [],
      "name": "EnsembleMethods.ipynb",
      "provenance": []
    },
    "interpreter": {
      "hash": "9de9f2478e4a83c3dbc52a6dd671502c98e162a5419d7ffaaf9601336f73ec9f"
    },
    "kernelspec": {
      "display_name": "Python 3.9.7 64-bit",
      "language": "python",
      "name": "python3"
    },
    "language_info": {
      "codemirror_mode": {
        "name": "ipython",
        "version": 3
      },
      "file_extension": ".py",
      "mimetype": "text/x-python",
      "name": "python",
      "nbconvert_exporter": "python",
      "pygments_lexer": "ipython3",
      "version": "3.9.7"
    }
  },
  "nbformat": 4,
  "nbformat_minor": 0
}
